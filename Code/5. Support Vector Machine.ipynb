{
 "cells": [
  {
   "cell_type": "markdown",
   "metadata": {},
   "source": [
    "# Table of Content (Code Part 5 of 6)\n",
    "\n",
    "1. [Libraries](#libraries)\n",
    "2. [Support Vector Classifier](#support-vector-classifier)\n",
    "3. [SVC with Countvectorizer](#svc-with-countvectorizer)\n",
    "4. [SVC with TFIDF Vectorizer](#svc-with-tfidf-vectorizer)\n",
    "5. [SVC TFIDFVectorizer Optimization](#svc-tfidfvectorizer-optimization)"
   ]
  },
  {
   "cell_type": "markdown",
   "metadata": {},
   "source": [
    "# Libraries"
   ]
  },
  {
   "cell_type": "code",
   "execution_count": 1,
   "metadata": {},
   "outputs": [],
   "source": [
    "import numpy as np\n",
    "import pandas as pd\n",
    "from sklearn.model_selection import train_test_split, cross_val_score, GridSearchCV\n",
    "from sklearn.pipeline import Pipeline\n",
    "from sklearn.feature_extraction.text import CountVectorizer, TfidfVectorizer\n",
    "from sklearn.svm import SVC\n",
    "pd.set_option('display.max_rows', 500)\n",
    "pd.set_option('display.max_columns', 100)"
   ]
  },
  {
   "cell_type": "code",
   "execution_count": 88,
   "metadata": {},
   "outputs": [],
   "source": [
    "# Read allposts csv file\n",
    "allposts = pd.read_csv('../Data/allposts.csv')"
   ]
  },
  {
   "cell_type": "markdown",
   "metadata": {},
   "source": [
    "# Support Vector Classifier"
   ]
  },
  {
   "cell_type": "markdown",
   "metadata": {},
   "source": [
    "## SVC with Countvectorizer"
   ]
  },
  {
   "cell_type": "markdown",
   "metadata": {},
   "source": [
    "In the Model Selection section, we made use of default hyper parameter and only countvectorizer transformer. In this section, we will try with different hyperparameters as well as TFID transformer to determine which is able to generate better CV score and test accuracy."
   ]
  },
  {
   "cell_type": "code",
   "execution_count": null,
   "metadata": {},
   "outputs": [],
   "source": [
    "# Initialize X and y\n",
    "X = allposts['stemmatized_tokenized_combinedtext']\n",
    "y = allposts['subreddit']\n",
    "\n",
    "# Perform train-test-split\n",
    "X_train, X_test, y_train, y_test = train_test_split(X, y, test_size=.2, random_state=12)"
   ]
  },
  {
   "cell_type": "code",
   "execution_count": null,
   "metadata": {},
   "outputs": [],
   "source": [
    "# Set up pipeline with countvectorizer and support vector classifier\n",
    "pipe_svc_c = Pipeline([\n",
    "    ('cvec', CountVectorizer(stop_words= 'english')),\n",
    "    ('svc', SVC())\n",
    "])"
   ]
  },
  {
   "cell_type": "code",
   "execution_count": null,
   "metadata": {},
   "outputs": [],
   "source": [
    "# Pipeline parameters\n",
    "pipe_svc_c_params = {\n",
    "    'cvec__max_df': [0.9, 1.0],\n",
    "    'svc__gamma': ['scale', 'auto'],\n",
    "    'svc__kernel': ['poly','rbf']\n",
    "}"
   ]
  },
  {
   "cell_type": "code",
   "execution_count": null,
   "metadata": {},
   "outputs": [],
   "source": [
    "# Perform Gridsearch with 3 fold cross validation\n",
    "gs_svc_c = GridSearchCV(pipe_svc_c, pipe_svc_c_params, cv=3, verbose=10)"
   ]
  },
  {
   "cell_type": "code",
   "execution_count": null,
   "metadata": {},
   "outputs": [
    {
     "name": "stdout",
     "output_type": "stream",
     "text": [
      "Fitting 3 folds for each of 8 candidates, totalling 24 fits\n",
      "[CV 1/3; 1/8] START cvec__max_df=0.9, svc__gamma=scale, svc__kernel=poly........\n",
      "[CV 1/3; 1/8] END cvec__max_df=0.9, svc__gamma=scale, svc__kernel=poly;, score=0.676 total time=  11.4s\n",
      "[CV 2/3; 1/8] START cvec__max_df=0.9, svc__gamma=scale, svc__kernel=poly........\n",
      "[CV 2/3; 1/8] END cvec__max_df=0.9, svc__gamma=scale, svc__kernel=poly;, score=0.666 total time=  12.4s\n",
      "[CV 3/3; 1/8] START cvec__max_df=0.9, svc__gamma=scale, svc__kernel=poly........\n",
      "[CV 3/3; 1/8] END cvec__max_df=0.9, svc__gamma=scale, svc__kernel=poly;, score=0.651 total time=  15.4s\n",
      "[CV 1/3; 2/8] START cvec__max_df=0.9, svc__gamma=scale, svc__kernel=rbf.........\n",
      "[CV 1/3; 2/8] END cvec__max_df=0.9, svc__gamma=scale, svc__kernel=rbf;, score=0.847 total time=  11.0s\n",
      "[CV 2/3; 2/8] START cvec__max_df=0.9, svc__gamma=scale, svc__kernel=rbf.........\n",
      "[CV 2/3; 2/8] END cvec__max_df=0.9, svc__gamma=scale, svc__kernel=rbf;, score=0.853 total time=   9.9s\n",
      "[CV 3/3; 2/8] START cvec__max_df=0.9, svc__gamma=scale, svc__kernel=rbf.........\n",
      "[CV 3/3; 2/8] END cvec__max_df=0.9, svc__gamma=scale, svc__kernel=rbf;, score=0.856 total time=  10.8s\n",
      "[CV 1/3; 3/8] START cvec__max_df=0.9, svc__gamma=auto, svc__kernel=poly.........\n",
      "[CV 1/3; 3/8] END cvec__max_df=0.9, svc__gamma=auto, svc__kernel=poly;, score=0.503 total time=  19.9s\n",
      "[CV 2/3; 3/8] START cvec__max_df=0.9, svc__gamma=auto, svc__kernel=poly.........\n",
      "[CV 2/3; 3/8] END cvec__max_df=0.9, svc__gamma=auto, svc__kernel=poly;, score=0.503 total time=  18.9s\n",
      "[CV 3/3; 3/8] START cvec__max_df=0.9, svc__gamma=auto, svc__kernel=poly.........\n",
      "[CV 3/3; 3/8] END cvec__max_df=0.9, svc__gamma=auto, svc__kernel=poly;, score=0.503 total time=  18.7s\n",
      "[CV 1/3; 4/8] START cvec__max_df=0.9, svc__gamma=auto, svc__kernel=rbf..........\n",
      "[CV 1/3; 4/8] END cvec__max_df=0.9, svc__gamma=auto, svc__kernel=rbf;, score=0.721 total time=  13.8s\n",
      "[CV 2/3; 4/8] START cvec__max_df=0.9, svc__gamma=auto, svc__kernel=rbf..........\n",
      "[CV 2/3; 4/8] END cvec__max_df=0.9, svc__gamma=auto, svc__kernel=rbf;, score=0.714 total time=  13.8s\n",
      "[CV 3/3; 4/8] START cvec__max_df=0.9, svc__gamma=auto, svc__kernel=rbf..........\n",
      "[CV 3/3; 4/8] END cvec__max_df=0.9, svc__gamma=auto, svc__kernel=rbf;, score=0.726 total time=  14.6s\n",
      "[CV 1/3; 5/8] START cvec__max_df=1.0, svc__gamma=scale, svc__kernel=poly........\n",
      "[CV 1/3; 5/8] END cvec__max_df=1.0, svc__gamma=scale, svc__kernel=poly;, score=0.676 total time=  14.5s\n",
      "[CV 2/3; 5/8] START cvec__max_df=1.0, svc__gamma=scale, svc__kernel=poly........\n",
      "[CV 2/3; 5/8] END cvec__max_df=1.0, svc__gamma=scale, svc__kernel=poly;, score=0.666 total time=  15.2s\n",
      "[CV 3/3; 5/8] START cvec__max_df=1.0, svc__gamma=scale, svc__kernel=poly........\n",
      "[CV 3/3; 5/8] END cvec__max_df=1.0, svc__gamma=scale, svc__kernel=poly;, score=0.651 total time=  15.4s\n",
      "[CV 1/3; 6/8] START cvec__max_df=1.0, svc__gamma=scale, svc__kernel=rbf.........\n",
      "[CV 1/3; 6/8] END cvec__max_df=1.0, svc__gamma=scale, svc__kernel=rbf;, score=0.847 total time=  10.3s\n",
      "[CV 2/3; 6/8] START cvec__max_df=1.0, svc__gamma=scale, svc__kernel=rbf.........\n",
      "[CV 2/3; 6/8] END cvec__max_df=1.0, svc__gamma=scale, svc__kernel=rbf;, score=0.853 total time=  10.1s\n",
      "[CV 3/3; 6/8] START cvec__max_df=1.0, svc__gamma=scale, svc__kernel=rbf.........\n",
      "[CV 3/3; 6/8] END cvec__max_df=1.0, svc__gamma=scale, svc__kernel=rbf;, score=0.856 total time=  10.7s\n",
      "[CV 1/3; 7/8] START cvec__max_df=1.0, svc__gamma=auto, svc__kernel=poly.........\n",
      "[CV 1/3; 7/8] END cvec__max_df=1.0, svc__gamma=auto, svc__kernel=poly;, score=0.503 total time=  19.1s\n",
      "[CV 2/3; 7/8] START cvec__max_df=1.0, svc__gamma=auto, svc__kernel=poly.........\n",
      "[CV 2/3; 7/8] END cvec__max_df=1.0, svc__gamma=auto, svc__kernel=poly;, score=0.503 total time=  18.6s\n",
      "[CV 3/3; 7/8] START cvec__max_df=1.0, svc__gamma=auto, svc__kernel=poly.........\n",
      "[CV 3/3; 7/8] END cvec__max_df=1.0, svc__gamma=auto, svc__kernel=poly;, score=0.503 total time=  18.8s\n",
      "[CV 1/3; 8/8] START cvec__max_df=1.0, svc__gamma=auto, svc__kernel=rbf..........\n",
      "[CV 1/3; 8/8] END cvec__max_df=1.0, svc__gamma=auto, svc__kernel=rbf;, score=0.721 total time=  13.9s\n",
      "[CV 2/3; 8/8] START cvec__max_df=1.0, svc__gamma=auto, svc__kernel=rbf..........\n",
      "[CV 2/3; 8/8] END cvec__max_df=1.0, svc__gamma=auto, svc__kernel=rbf;, score=0.714 total time=  14.7s\n",
      "[CV 3/3; 8/8] START cvec__max_df=1.0, svc__gamma=auto, svc__kernel=rbf..........\n",
      "[CV 3/3; 8/8] END cvec__max_df=1.0, svc__gamma=auto, svc__kernel=rbf;, score=0.726 total time=  14.2s\n"
     ]
    }
   ],
   "source": [
    "# Train the model\n",
    "gs_svc_c.fit(X_train, y_train);"
   ]
  },
  {
   "cell_type": "code",
   "execution_count": null,
   "metadata": {},
   "outputs": [
    {
     "data": {
      "text/plain": [
       "0.8521254329330364"
      ]
     },
     "execution_count": 15,
     "metadata": {},
     "output_type": "execute_result"
    }
   ],
   "source": [
    "# Gridsearch CV best score\n",
    "gs_svc_c.best_score_"
   ]
  },
  {
   "cell_type": "code",
   "execution_count": null,
   "metadata": {},
   "outputs": [
    {
     "data": {
      "text/plain": [
       "{'cvec__max_df': 0.9, 'svc__gamma': 'scale', 'svc__kernel': 'rbf'}"
      ]
     },
     "execution_count": 16,
     "metadata": {},
     "output_type": "execute_result"
    }
   ],
   "source": [
    "# Gridsearch best parameters\n",
    "gs_svc_c.best_params_"
   ]
  },
  {
   "cell_type": "markdown",
   "metadata": {},
   "source": [
    "The best parameters for countvectorizer is at max_df = 0.9 while the other best parameters are same as default parameters."
   ]
  },
  {
   "cell_type": "code",
   "execution_count": null,
   "metadata": {},
   "outputs": [
    {
     "name": "stdout",
     "output_type": "stream",
     "text": [
      "train score: 0.9165\n",
      "test score: 0.8555\n"
     ]
    }
   ],
   "source": [
    "# Train score\n",
    "print (f'train score: {gs_svc_c.score(X_train, y_train)}')\n",
    "# Test Score\n",
    "print (f'test score: {gs_svc_c.score(X_test, y_test)}')"
   ]
  },
  {
   "cell_type": "markdown",
   "metadata": {},
   "source": [
    "The model is slightly overfitting. Let's take a look at TFID vectorizer to see if it is able to provide better result."
   ]
  },
  {
   "cell_type": "markdown",
   "metadata": {},
   "source": [
    "## SVC with TFIDF Vectorizer"
   ]
  },
  {
   "cell_type": "markdown",
   "metadata": {},
   "source": [
    "Support vector classifier with TFIDF vectorizer transformer and stemmatized tokenized text."
   ]
  },
  {
   "cell_type": "code",
   "execution_count": null,
   "metadata": {},
   "outputs": [],
   "source": [
    "# Set up pipeline with TFIDF Vectorizer and support vector classifier\n",
    "pipe_svc_t = Pipeline([\n",
    "    ('tvec', TfidfVectorizer(stop_words='english')),\n",
    "    ('svc', SVC())\n",
    "])"
   ]
  },
  {
   "cell_type": "code",
   "execution_count": null,
   "metadata": {},
   "outputs": [],
   "source": [
    "# Pipeline parameters\n",
    "pipe_svc_t_params = {\n",
    "    'tvec__max_df': [0.9,1.0],\n",
    "    'svc__gamma': ['scale', 'auto'],\n",
    "    'svc__kernel': ['poly','rbf']\n",
    "}"
   ]
  },
  {
   "cell_type": "code",
   "execution_count": null,
   "metadata": {},
   "outputs": [],
   "source": [
    "# Perform Gridsearch with 3 fold cross validation\n",
    "gs_svc_t = GridSearchCV(pipe_svc_t, pipe_svc_t_params, cv=3, verbose=10)"
   ]
  },
  {
   "cell_type": "code",
   "execution_count": null,
   "metadata": {},
   "outputs": [
    {
     "name": "stdout",
     "output_type": "stream",
     "text": [
      "Fitting 3 folds for each of 8 candidates, totalling 24 fits\n",
      "[CV 1/3; 1/8] START svc__gamma=scale, svc__kernel=poly, tvec__max_df=0.9........\n",
      "[CV 1/3; 1/8] END svc__gamma=scale, svc__kernel=poly, tvec__max_df=0.9;, score=0.822 total time=  17.7s\n",
      "[CV 2/3; 1/8] START svc__gamma=scale, svc__kernel=poly, tvec__max_df=0.9........\n",
      "[CV 2/3; 1/8] END svc__gamma=scale, svc__kernel=poly, tvec__max_df=0.9;, score=0.814 total time=  18.0s\n",
      "[CV 3/3; 1/8] START svc__gamma=scale, svc__kernel=poly, tvec__max_df=0.9........\n",
      "[CV 3/3; 1/8] END svc__gamma=scale, svc__kernel=poly, tvec__max_df=0.9;, score=0.821 total time=  19.0s\n",
      "[CV 1/3; 2/8] START svc__gamma=scale, svc__kernel=poly, tvec__max_df=1.0........\n",
      "[CV 1/3; 2/8] END svc__gamma=scale, svc__kernel=poly, tvec__max_df=1.0;, score=0.822 total time=  18.5s\n",
      "[CV 2/3; 2/8] START svc__gamma=scale, svc__kernel=poly, tvec__max_df=1.0........\n",
      "[CV 2/3; 2/8] END svc__gamma=scale, svc__kernel=poly, tvec__max_df=1.0;, score=0.814 total time=  18.1s\n",
      "[CV 3/3; 2/8] START svc__gamma=scale, svc__kernel=poly, tvec__max_df=1.0........\n",
      "[CV 3/3; 2/8] END svc__gamma=scale, svc__kernel=poly, tvec__max_df=1.0;, score=0.821 total time=  17.8s\n",
      "[CV 1/3; 3/8] START svc__gamma=scale, svc__kernel=rbf, tvec__max_df=0.9.........\n",
      "[CV 1/3; 3/8] END svc__gamma=scale, svc__kernel=rbf, tvec__max_df=0.9;, score=0.867 total time=  12.1s\n",
      "[CV 2/3; 3/8] START svc__gamma=scale, svc__kernel=rbf, tvec__max_df=0.9.........\n",
      "[CV 2/3; 3/8] END svc__gamma=scale, svc__kernel=rbf, tvec__max_df=0.9;, score=0.859 total time=  12.1s\n",
      "[CV 3/3; 3/8] START svc__gamma=scale, svc__kernel=rbf, tvec__max_df=0.9.........\n",
      "[CV 3/3; 3/8] END svc__gamma=scale, svc__kernel=rbf, tvec__max_df=0.9;, score=0.859 total time=  12.0s\n",
      "[CV 1/3; 4/8] START svc__gamma=scale, svc__kernel=rbf, tvec__max_df=1.0.........\n",
      "[CV 1/3; 4/8] END svc__gamma=scale, svc__kernel=rbf, tvec__max_df=1.0;, score=0.867 total time=  12.1s\n",
      "[CV 2/3; 4/8] START svc__gamma=scale, svc__kernel=rbf, tvec__max_df=1.0.........\n",
      "[CV 2/3; 4/8] END svc__gamma=scale, svc__kernel=rbf, tvec__max_df=1.0;, score=0.859 total time=  12.2s\n",
      "[CV 3/3; 4/8] START svc__gamma=scale, svc__kernel=rbf, tvec__max_df=1.0.........\n",
      "[CV 3/3; 4/8] END svc__gamma=scale, svc__kernel=rbf, tvec__max_df=1.0;, score=0.859 total time=  12.0s\n",
      "[CV 1/3; 5/8] START svc__gamma=auto, svc__kernel=poly, tvec__max_df=0.9.........\n",
      "[CV 1/3; 5/8] END svc__gamma=auto, svc__kernel=poly, tvec__max_df=0.9;, score=0.502 total time=  17.8s\n",
      "[CV 2/3; 5/8] START svc__gamma=auto, svc__kernel=poly, tvec__max_df=0.9.........\n",
      "[CV 2/3; 5/8] END svc__gamma=auto, svc__kernel=poly, tvec__max_df=0.9;, score=0.503 total time=  17.6s\n",
      "[CV 3/3; 5/8] START svc__gamma=auto, svc__kernel=poly, tvec__max_df=0.9.........\n",
      "[CV 3/3; 5/8] END svc__gamma=auto, svc__kernel=poly, tvec__max_df=0.9;, score=0.503 total time=  18.0s\n",
      "[CV 1/3; 6/8] START svc__gamma=auto, svc__kernel=poly, tvec__max_df=1.0.........\n",
      "[CV 1/3; 6/8] END svc__gamma=auto, svc__kernel=poly, tvec__max_df=1.0;, score=0.502 total time=  17.6s\n",
      "[CV 2/3; 6/8] START svc__gamma=auto, svc__kernel=poly, tvec__max_df=1.0.........\n",
      "[CV 2/3; 6/8] END svc__gamma=auto, svc__kernel=poly, tvec__max_df=1.0;, score=0.503 total time=  17.7s\n",
      "[CV 3/3; 6/8] START svc__gamma=auto, svc__kernel=poly, tvec__max_df=1.0.........\n",
      "[CV 3/3; 6/8] END svc__gamma=auto, svc__kernel=poly, tvec__max_df=1.0;, score=0.503 total time=  17.9s\n",
      "[CV 1/3; 7/8] START svc__gamma=auto, svc__kernel=rbf, tvec__max_df=0.9..........\n",
      "[CV 1/3; 7/8] END svc__gamma=auto, svc__kernel=rbf, tvec__max_df=0.9;, score=0.502 total time=  17.5s\n",
      "[CV 2/3; 7/8] START svc__gamma=auto, svc__kernel=rbf, tvec__max_df=0.9..........\n",
      "[CV 2/3; 7/8] END svc__gamma=auto, svc__kernel=rbf, tvec__max_df=0.9;, score=0.503 total time=  17.4s\n",
      "[CV 3/3; 7/8] START svc__gamma=auto, svc__kernel=rbf, tvec__max_df=0.9..........\n",
      "[CV 3/3; 7/8] END svc__gamma=auto, svc__kernel=rbf, tvec__max_df=0.9;, score=0.503 total time=  17.6s\n",
      "[CV 1/3; 8/8] START svc__gamma=auto, svc__kernel=rbf, tvec__max_df=1.0..........\n",
      "[CV 1/3; 8/8] END svc__gamma=auto, svc__kernel=rbf, tvec__max_df=1.0;, score=0.502 total time=  17.3s\n",
      "[CV 2/3; 8/8] START svc__gamma=auto, svc__kernel=rbf, tvec__max_df=1.0..........\n",
      "[CV 2/3; 8/8] END svc__gamma=auto, svc__kernel=rbf, tvec__max_df=1.0;, score=0.503 total time=  17.2s\n",
      "[CV 3/3; 8/8] START svc__gamma=auto, svc__kernel=rbf, tvec__max_df=1.0..........\n",
      "[CV 3/3; 8/8] END svc__gamma=auto, svc__kernel=rbf, tvec__max_df=1.0;, score=0.503 total time=  17.7s\n"
     ]
    }
   ],
   "source": [
    "# Train the model\n",
    "gs_svc_t.fit(X_train, y_train);"
   ]
  },
  {
   "cell_type": "code",
   "execution_count": null,
   "metadata": {},
   "outputs": [
    {
     "data": {
      "text/plain": [
       "0.8617496518861625"
      ]
     },
     "execution_count": 26,
     "metadata": {},
     "output_type": "execute_result"
    }
   ],
   "source": [
    "# Gridsearch CV best score\n",
    "gs_svc_t.best_score_"
   ]
  },
  {
   "cell_type": "code",
   "execution_count": null,
   "metadata": {},
   "outputs": [
    {
     "data": {
      "text/plain": [
       "{'svc__gamma': 'scale', 'svc__kernel': 'rbf', 'tvec__max_df': 0.9}"
      ]
     },
     "execution_count": 27,
     "metadata": {},
     "output_type": "execute_result"
    }
   ],
   "source": [
    "# Gridsearch CV best parameters\n",
    "gs_svc_t.best_params_"
   ]
  },
  {
   "cell_type": "markdown",
   "metadata": {},
   "source": [
    "For this Gridsearch with TFIDF vectorizer, the best parameters are not the default parameters anymore."
   ]
  },
  {
   "cell_type": "code",
   "execution_count": null,
   "metadata": {},
   "outputs": [
    {
     "name": "stdout",
     "output_type": "stream",
     "text": [
      "train score: 0.9755\n",
      "test score: 0.8615\n"
     ]
    }
   ],
   "source": [
    "# Train score\n",
    "print (f'train score: {gs_svc_t.score(X_train, y_train)}')\n",
    "# Test Score\n",
    "print (f'test score: {gs_svc_t.score(X_test, y_test)}')"
   ]
  },
  {
   "cell_type": "markdown",
   "metadata": {},
   "source": [
    "The CV score and test score are better than the Gridsearch with countvectorizer. We will make use of TFIDF vectorizer for further optimization to reduce overfitting."
   ]
  },
  {
   "cell_type": "markdown",
   "metadata": {},
   "source": [
    "## SVC TFIDFVectorizer Optimization"
   ]
  },
  {
   "cell_type": "markdown",
   "metadata": {},
   "source": [
    "Since the model is overfitting, we will try to impose certain regularization."
   ]
  },
  {
   "cell_type": "code",
   "execution_count": null,
   "metadata": {},
   "outputs": [],
   "source": [
    "# TFIDFvectorizer transformer with max_df 0.9 as it is the best parameter.\n",
    "tvec = TfidfVectorizer(max_df=0.9)\n",
    "\n",
    "X_train_c = tvec.fit_transform(X_train)\n",
    "X_test_c = tvec.transform(X_test)"
   ]
  },
  {
   "cell_type": "code",
   "execution_count": null,
   "metadata": {},
   "outputs": [],
   "source": [
    "# Instantiate Support Vector Classifier\n",
    "svc_t_opt = SVC(random_state=12)"
   ]
  },
  {
   "cell_type": "code",
   "execution_count": 82,
   "metadata": {},
   "outputs": [],
   "source": [
    "# Set different regulization strength in new parameters\n",
    "svc_t_opt_params = {\n",
    "    'C': [0.85,0.9,0.95]\n",
    "}"
   ]
  },
  {
   "cell_type": "code",
   "execution_count": 83,
   "metadata": {},
   "outputs": [],
   "source": [
    "# Perform Gridsearch with 5 fold cross validation\n",
    "gs_svc_t_opt = GridSearchCV(svc_t_opt, svc_t_opt_params, cv=5, verbose=10)"
   ]
  },
  {
   "cell_type": "code",
   "execution_count": 84,
   "metadata": {},
   "outputs": [
    {
     "name": "stdout",
     "output_type": "stream",
     "text": [
      "Fitting 5 folds for each of 3 candidates, totalling 15 fits\n",
      "[CV 1/5; 1/3] START C=0.85......................................................\n",
      "[CV 1/5; 1/3] END .......................C=0.85;, score=0.868 total time=  19.3s\n",
      "[CV 2/5; 1/3] START C=0.85......................................................\n",
      "[CV 2/5; 1/3] END .......................C=0.85;, score=0.868 total time=  19.9s\n",
      "[CV 3/5; 1/3] START C=0.85......................................................\n",
      "[CV 3/5; 1/3] END .......................C=0.85;, score=0.871 total time=  20.2s\n",
      "[CV 4/5; 1/3] START C=0.85......................................................\n",
      "[CV 4/5; 1/3] END .......................C=0.85;, score=0.876 total time=  20.3s\n",
      "[CV 5/5; 1/3] START C=0.85......................................................\n",
      "[CV 5/5; 1/3] END .......................C=0.85;, score=0.856 total time=  19.7s\n",
      "[CV 1/5; 2/3] START C=0.9.......................................................\n",
      "[CV 1/5; 2/3] END ........................C=0.9;, score=0.866 total time=  20.8s\n",
      "[CV 2/5; 2/3] START C=0.9.......................................................\n",
      "[CV 2/5; 2/3] END ........................C=0.9;, score=0.869 total time=  20.9s\n",
      "[CV 3/5; 2/3] START C=0.9.......................................................\n",
      "[CV 3/5; 2/3] END ........................C=0.9;, score=0.873 total time=  20.0s\n",
      "[CV 4/5; 2/3] START C=0.9.......................................................\n",
      "[CV 4/5; 2/3] END ........................C=0.9;, score=0.877 total time=  19.8s\n",
      "[CV 5/5; 2/3] START C=0.9.......................................................\n",
      "[CV 5/5; 2/3] END ........................C=0.9;, score=0.857 total time=  19.5s\n",
      "[CV 1/5; 3/3] START C=0.95......................................................\n",
      "[CV 1/5; 3/3] END .......................C=0.95;, score=0.865 total time=  19.8s\n",
      "[CV 2/5; 3/3] START C=0.95......................................................\n",
      "[CV 2/5; 3/3] END .......................C=0.95;, score=0.869 total time=  20.0s\n",
      "[CV 3/5; 3/3] START C=0.95......................................................\n",
      "[CV 3/5; 3/3] END .......................C=0.95;, score=0.872 total time=  19.9s\n",
      "[CV 4/5; 3/3] START C=0.95......................................................\n",
      "[CV 4/5; 3/3] END .......................C=0.95;, score=0.877 total time=  19.8s\n",
      "[CV 5/5; 3/3] START C=0.95......................................................\n",
      "[CV 5/5; 3/3] END .......................C=0.95;, score=0.858 total time=  19.7s\n"
     ]
    },
    {
     "data": {
      "text/html": [
       "<style>#sk-container-id-10 {color: black;background-color: white;}#sk-container-id-10 pre{padding: 0;}#sk-container-id-10 div.sk-toggleable {background-color: white;}#sk-container-id-10 label.sk-toggleable__label {cursor: pointer;display: block;width: 100%;margin-bottom: 0;padding: 0.3em;box-sizing: border-box;text-align: center;}#sk-container-id-10 label.sk-toggleable__label-arrow:before {content: \"▸\";float: left;margin-right: 0.25em;color: #696969;}#sk-container-id-10 label.sk-toggleable__label-arrow:hover:before {color: black;}#sk-container-id-10 div.sk-estimator:hover label.sk-toggleable__label-arrow:before {color: black;}#sk-container-id-10 div.sk-toggleable__content {max-height: 0;max-width: 0;overflow: hidden;text-align: left;background-color: #f0f8ff;}#sk-container-id-10 div.sk-toggleable__content pre {margin: 0.2em;color: black;border-radius: 0.25em;background-color: #f0f8ff;}#sk-container-id-10 input.sk-toggleable__control:checked~div.sk-toggleable__content {max-height: 200px;max-width: 100%;overflow: auto;}#sk-container-id-10 input.sk-toggleable__control:checked~label.sk-toggleable__label-arrow:before {content: \"▾\";}#sk-container-id-10 div.sk-estimator input.sk-toggleable__control:checked~label.sk-toggleable__label {background-color: #d4ebff;}#sk-container-id-10 div.sk-label input.sk-toggleable__control:checked~label.sk-toggleable__label {background-color: #d4ebff;}#sk-container-id-10 input.sk-hidden--visually {border: 0;clip: rect(1px 1px 1px 1px);clip: rect(1px, 1px, 1px, 1px);height: 1px;margin: -1px;overflow: hidden;padding: 0;position: absolute;width: 1px;}#sk-container-id-10 div.sk-estimator {font-family: monospace;background-color: #f0f8ff;border: 1px dotted black;border-radius: 0.25em;box-sizing: border-box;margin-bottom: 0.5em;}#sk-container-id-10 div.sk-estimator:hover {background-color: #d4ebff;}#sk-container-id-10 div.sk-parallel-item::after {content: \"\";width: 100%;border-bottom: 1px solid gray;flex-grow: 1;}#sk-container-id-10 div.sk-label:hover label.sk-toggleable__label {background-color: #d4ebff;}#sk-container-id-10 div.sk-serial::before {content: \"\";position: absolute;border-left: 1px solid gray;box-sizing: border-box;top: 0;bottom: 0;left: 50%;z-index: 0;}#sk-container-id-10 div.sk-serial {display: flex;flex-direction: column;align-items: center;background-color: white;padding-right: 0.2em;padding-left: 0.2em;position: relative;}#sk-container-id-10 div.sk-item {position: relative;z-index: 1;}#sk-container-id-10 div.sk-parallel {display: flex;align-items: stretch;justify-content: center;background-color: white;position: relative;}#sk-container-id-10 div.sk-item::before, #sk-container-id-10 div.sk-parallel-item::before {content: \"\";position: absolute;border-left: 1px solid gray;box-sizing: border-box;top: 0;bottom: 0;left: 50%;z-index: -1;}#sk-container-id-10 div.sk-parallel-item {display: flex;flex-direction: column;z-index: 1;position: relative;background-color: white;}#sk-container-id-10 div.sk-parallel-item:first-child::after {align-self: flex-end;width: 50%;}#sk-container-id-10 div.sk-parallel-item:last-child::after {align-self: flex-start;width: 50%;}#sk-container-id-10 div.sk-parallel-item:only-child::after {width: 0;}#sk-container-id-10 div.sk-dashed-wrapped {border: 1px dashed gray;margin: 0 0.4em 0.5em 0.4em;box-sizing: border-box;padding-bottom: 0.4em;background-color: white;}#sk-container-id-10 div.sk-label label {font-family: monospace;font-weight: bold;display: inline-block;line-height: 1.2em;}#sk-container-id-10 div.sk-label-container {text-align: center;}#sk-container-id-10 div.sk-container {/* jupyter's `normalize.less` sets `[hidden] { display: none; }` but bootstrap.min.css set `[hidden] { display: none !important; }` so we also need the `!important` here to be able to override the default hidden behavior on the sphinx rendered scikit-learn.org. See: https://github.com/scikit-learn/scikit-learn/issues/21755 */display: inline-block !important;position: relative;}#sk-container-id-10 div.sk-text-repr-fallback {display: none;}</style><div id=\"sk-container-id-10\" class=\"sk-top-container\"><div class=\"sk-text-repr-fallback\"><pre>GridSearchCV(cv=5, estimator=SVC(random_state=12),\n",
       "             param_grid={&#x27;C&#x27;: [0.85, 0.9, 0.95]}, verbose=10)</pre><b>In a Jupyter environment, please rerun this cell to show the HTML representation or trust the notebook. <br />On GitHub, the HTML representation is unable to render, please try loading this page with nbviewer.org.</b></div><div class=\"sk-container\" hidden><div class=\"sk-item sk-dashed-wrapped\"><div class=\"sk-label-container\"><div class=\"sk-label sk-toggleable\"><input class=\"sk-toggleable__control sk-hidden--visually\" id=\"sk-estimator-id-28\" type=\"checkbox\" ><label for=\"sk-estimator-id-28\" class=\"sk-toggleable__label sk-toggleable__label-arrow\">GridSearchCV</label><div class=\"sk-toggleable__content\"><pre>GridSearchCV(cv=5, estimator=SVC(random_state=12),\n",
       "             param_grid={&#x27;C&#x27;: [0.85, 0.9, 0.95]}, verbose=10)</pre></div></div></div><div class=\"sk-parallel\"><div class=\"sk-parallel-item\"><div class=\"sk-item\"><div class=\"sk-label-container\"><div class=\"sk-label sk-toggleable\"><input class=\"sk-toggleable__control sk-hidden--visually\" id=\"sk-estimator-id-29\" type=\"checkbox\" ><label for=\"sk-estimator-id-29\" class=\"sk-toggleable__label sk-toggleable__label-arrow\">estimator: SVC</label><div class=\"sk-toggleable__content\"><pre>SVC(random_state=12)</pre></div></div></div><div class=\"sk-serial\"><div class=\"sk-item\"><div class=\"sk-estimator sk-toggleable\"><input class=\"sk-toggleable__control sk-hidden--visually\" id=\"sk-estimator-id-30\" type=\"checkbox\" ><label for=\"sk-estimator-id-30\" class=\"sk-toggleable__label sk-toggleable__label-arrow\">SVC</label><div class=\"sk-toggleable__content\"><pre>SVC(random_state=12)</pre></div></div></div></div></div></div></div></div></div></div>"
      ],
      "text/plain": [
       "GridSearchCV(cv=5, estimator=SVC(random_state=12),\n",
       "             param_grid={'C': [0.85, 0.9, 0.95]}, verbose=10)"
      ]
     },
     "execution_count": 84,
     "metadata": {},
     "output_type": "execute_result"
    }
   ],
   "source": [
    "# Train the model with new parameters\n",
    "gs_svc_t_opt.fit(X_train_c, y_train)"
   ]
  },
  {
   "cell_type": "code",
   "execution_count": 85,
   "metadata": {},
   "outputs": [
    {
     "data": {
      "text/plain": [
       "0.868375"
      ]
     },
     "execution_count": 85,
     "metadata": {},
     "output_type": "execute_result"
    }
   ],
   "source": [
    "# Gridsearch CV best score\n",
    "gs_svc_t_opt.best_score_"
   ]
  },
  {
   "cell_type": "code",
   "execution_count": 86,
   "metadata": {},
   "outputs": [
    {
     "data": {
      "text/plain": [
       "{'C': 0.9}"
      ]
     },
     "execution_count": 86,
     "metadata": {},
     "output_type": "execute_result"
    }
   ],
   "source": [
    "# Gridsearch CV best parameters\n",
    "gs_svc_t_opt.best_params_"
   ]
  },
  {
   "cell_type": "code",
   "execution_count": 87,
   "metadata": {},
   "outputs": [
    {
     "name": "stdout",
     "output_type": "stream",
     "text": [
      "train score: 0.968\n",
      "test score: 0.861\n"
     ]
    }
   ],
   "source": [
    "# Train score\n",
    "print (f'train score: {gs_svc_t_opt.score(X_train_c, y_train)}')\n",
    "# Test Score\n",
    "print (f'test score: {gs_svc_t_opt.score(X_test_c, y_test)}')"
   ]
  },
  {
   "cell_type": "markdown",
   "metadata": {},
   "source": [
    "After optimization, the CV score has improved but the model is still having high variance and it is very much overfitting. In this case, SVC with Countvectorizer might even perform better in terms of interpretability.\n",
    "However, Random Forest has much better performance in terms of over fitting issue. We will select random forest classifer for further tuning."
   ]
  },
  {
   "cell_type": "code",
   "execution_count": 89,
   "metadata": {},
   "outputs": [],
   "source": [
    "# This is the SVC model with the best parameters\n",
    "tvec_best = CountVectorizer(max_df=0.9)\n",
    "svc_best = SVC(C=0.9, random_state=12)"
   ]
  }
 ],
 "metadata": {
  "kernelspec": {
   "display_name": "Python 3.10.7 64-bit (microsoft store)",
   "language": "python",
   "name": "python3"
  },
  "language_info": {
   "codemirror_mode": {
    "name": "ipython",
    "version": 3
   },
   "file_extension": ".py",
   "mimetype": "text/x-python",
   "name": "python",
   "nbconvert_exporter": "python",
   "pygments_lexer": "ipython3",
   "version": "3.10.8"
  },
  "orig_nbformat": 4,
  "vscode": {
   "interpreter": {
    "hash": "e19db1e9da599290b8ff42b0f8e8323be965d18c8fa7c16db7240545f8fbedb0"
   }
  }
 },
 "nbformat": 4,
 "nbformat_minor": 2
}
