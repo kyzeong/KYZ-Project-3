{
 "cells": [
  {
   "cell_type": "markdown",
   "metadata": {},
   "source": [
    "# Table of Content (Code Part 4 of 6)\n",
    "\n",
    "1. [Libraries](#libraries)\n",
    "2. [Random Forest Classifier](#random-forest-classifier)\n",
    "3. [RF with Countvectorizer](#rf-countvectorizer)\n",
    "4. [RF with TFIDF Vectorizer](#rf-with-tfidf-vectorizer)\n",
    "5. [RF Countvectorizer Optimization](#rf-countvectorizer-optimization)"
   ]
  },
  {
   "cell_type": "markdown",
   "metadata": {},
   "source": [
    "# Libraries"
   ]
  },
  {
   "cell_type": "code",
   "execution_count": 1,
   "metadata": {},
   "outputs": [],
   "source": [
    "import numpy as np\n",
    "import pandas as pd\n",
    "from sklearn.model_selection import train_test_split, cross_val_score, GridSearchCV\n",
    "from sklearn.pipeline import Pipeline\n",
    "from sklearn.feature_extraction.text import CountVectorizer, TfidfVectorizer\n",
    "from sklearn.ensemble import RandomForestClassifier\n",
    "from sklearn.svm import SVC\n",
    "pd.set_option('display.max_rows', 500)\n",
    "pd.set_option('display.max_columns', 100)"
   ]
  },
  {
   "cell_type": "code",
   "execution_count": 4,
   "metadata": {},
   "outputs": [],
   "source": [
    "# Read allposts csv file\n",
    "allposts = pd.read_csv('../Data/allposts.csv')"
   ]
  },
  {
   "cell_type": "markdown",
   "metadata": {},
   "source": [
    "In previous section, we have selected two models for optimization. Our goal is to increase the test score, lower the difference between train score and test score to avoid overfitting. After that, we will look into the metrics and performance."
   ]
  },
  {
   "cell_type": "markdown",
   "metadata": {},
   "source": [
    "# Random Forest Classifier"
   ]
  },
  {
   "cell_type": "markdown",
   "metadata": {},
   "source": [
    "## RF with Countvectorizer"
   ]
  },
  {
   "cell_type": "markdown",
   "metadata": {},
   "source": [
    "Random forest classifier with countvectorizer transformer and original combined text."
   ]
  },
  {
   "cell_type": "markdown",
   "metadata": {},
   "source": [
    "In the Model Selection section, we made use of default hyper parameter and only countvectorizer transformer. In this section, we will try with different hyperparameters as well as TFID transformer to determine which is able to generate better CV score and test accuracy."
   ]
  },
  {
   "cell_type": "code",
   "execution_count": 5,
   "metadata": {},
   "outputs": [],
   "source": [
    "# Initialize X and y\n",
    "X = allposts['combinedtext']\n",
    "y = allposts['subreddit']\n",
    "\n",
    "# Perform train-test-split\n",
    "X_train, X_test, y_train, y_test = train_test_split(X, y, test_size=.2, random_state=12)"
   ]
  },
  {
   "cell_type": "code",
   "execution_count": 6,
   "metadata": {},
   "outputs": [],
   "source": [
    "# Set up pipeline with countvectorizer and random forest classifier\n",
    "pipe_rf_c = Pipeline([\n",
    "    ('cvec', CountVectorizer(stop_words= 'english')),\n",
    "    ('rf', RandomForestClassifier())\n",
    "])"
   ]
  },
  {
   "cell_type": "code",
   "execution_count": 7,
   "metadata": {},
   "outputs": [],
   "source": [
    "# Pipeline parameters\n",
    "pipe_rf_c_params = {\n",
    "    'cvec__max_df': [0.9, 1.0],\n",
    "    'rf__n_estimators': [100, 200]\n",
    "}"
   ]
  },
  {
   "cell_type": "code",
   "execution_count": 8,
   "metadata": {},
   "outputs": [],
   "source": [
    "# Perform Gridsearch with 3 fold cross validation\n",
    "gs_rf_c = GridSearchCV(pipe_rf_c, pipe_rf_c_params, cv=3, verbose=10)"
   ]
  },
  {
   "cell_type": "code",
   "execution_count": 9,
   "metadata": {},
   "outputs": [
    {
     "name": "stdout",
     "output_type": "stream",
     "text": [
      "Fitting 3 folds for each of 4 candidates, totalling 12 fits\n",
      "[CV 1/3; 1/4] START cvec__max_df=0.9, rf__n_estimators=100......................\n",
      "[CV 1/3; 1/4] END cvec__max_df=0.9, rf__n_estimators=100;, score=0.849 total time=  17.8s\n",
      "[CV 2/3; 1/4] START cvec__max_df=0.9, rf__n_estimators=100......................\n",
      "[CV 2/3; 1/4] END cvec__max_df=0.9, rf__n_estimators=100;, score=0.836 total time=  18.6s\n",
      "[CV 3/3; 1/4] START cvec__max_df=0.9, rf__n_estimators=100......................\n",
      "[CV 3/3; 1/4] END cvec__max_df=0.9, rf__n_estimators=100;, score=0.854 total time=  19.4s\n",
      "[CV 1/3; 2/4] START cvec__max_df=0.9, rf__n_estimators=200......................\n",
      "[CV 1/3; 2/4] END cvec__max_df=0.9, rf__n_estimators=200;, score=0.842 total time=  35.5s\n",
      "[CV 2/3; 2/4] START cvec__max_df=0.9, rf__n_estimators=200......................\n",
      "[CV 2/3; 2/4] END cvec__max_df=0.9, rf__n_estimators=200;, score=0.833 total time=  34.9s\n",
      "[CV 3/3; 2/4] START cvec__max_df=0.9, rf__n_estimators=200......................\n",
      "[CV 3/3; 2/4] END cvec__max_df=0.9, rf__n_estimators=200;, score=0.855 total time=  33.2s\n",
      "[CV 1/3; 3/4] START cvec__max_df=1.0, rf__n_estimators=100......................\n",
      "[CV 1/3; 3/4] END cvec__max_df=1.0, rf__n_estimators=100;, score=0.841 total time=  17.5s\n",
      "[CV 2/3; 3/4] START cvec__max_df=1.0, rf__n_estimators=100......................\n",
      "[CV 2/3; 3/4] END cvec__max_df=1.0, rf__n_estimators=100;, score=0.841 total time=  17.3s\n",
      "[CV 3/3; 3/4] START cvec__max_df=1.0, rf__n_estimators=100......................\n",
      "[CV 3/3; 3/4] END cvec__max_df=1.0, rf__n_estimators=100;, score=0.851 total time=  17.2s\n",
      "[CV 1/3; 4/4] START cvec__max_df=1.0, rf__n_estimators=200......................\n",
      "[CV 1/3; 4/4] END cvec__max_df=1.0, rf__n_estimators=200;, score=0.846 total time=  34.5s\n",
      "[CV 2/3; 4/4] START cvec__max_df=1.0, rf__n_estimators=200......................\n",
      "[CV 2/3; 4/4] END cvec__max_df=1.0, rf__n_estimators=200;, score=0.836 total time=  33.8s\n",
      "[CV 3/3; 4/4] START cvec__max_df=1.0, rf__n_estimators=200......................\n",
      "[CV 3/3; 4/4] END cvec__max_df=1.0, rf__n_estimators=200;, score=0.855 total time=  32.9s\n"
     ]
    }
   ],
   "source": [
    "# Train the model\n",
    "gs_rf_c.fit(X_train, y_train);"
   ]
  },
  {
   "cell_type": "code",
   "execution_count": 20,
   "metadata": {},
   "outputs": [
    {
     "data": {
      "text/plain": [
       "0.8463760109506193"
      ]
     },
     "execution_count": 20,
     "metadata": {},
     "output_type": "execute_result"
    }
   ],
   "source": [
    "# Gridsearch CV best score\n",
    "gs_rf_c.best_score_"
   ]
  },
  {
   "cell_type": "code",
   "execution_count": 11,
   "metadata": {},
   "outputs": [
    {
     "data": {
      "text/plain": [
       "{'cvec__max_df': 0.9, 'rf__n_estimators': 100}"
      ]
     },
     "execution_count": 11,
     "metadata": {},
     "output_type": "execute_result"
    }
   ],
   "source": [
    "# Gridsearch best parameters\n",
    "gs_rf_c.best_params_"
   ]
  },
  {
   "cell_type": "markdown",
   "metadata": {},
   "source": [
    "The best parameters for countvectorizer is at max_df = 0.9 while the best n_estimator is the same as default value."
   ]
  },
  {
   "cell_type": "code",
   "execution_count": 13,
   "metadata": {},
   "outputs": [
    {
     "name": "stdout",
     "output_type": "stream",
     "text": [
      "train score: 0.999125\n",
      "test score: 0.838\n"
     ]
    }
   ],
   "source": [
    "# Train score\n",
    "print (f'train score: {gs_rf_c.score(X_train, y_train)}')\n",
    "# Test Score\n",
    "print (f'test score: {gs_rf_c.score(X_test, y_test)}')"
   ]
  },
  {
   "cell_type": "markdown",
   "metadata": {},
   "source": [
    "The model is clearly overfitting. Let's take a look at TFID vectorizer to see if it is able to provide better result."
   ]
  },
  {
   "cell_type": "markdown",
   "metadata": {},
   "source": [
    "## RF with TFIDF Vectorizer"
   ]
  },
  {
   "cell_type": "markdown",
   "metadata": {},
   "source": [
    "Random forest classifier with TFIDF vectorizer transformer and original combined text."
   ]
  },
  {
   "cell_type": "code",
   "execution_count": 15,
   "metadata": {},
   "outputs": [],
   "source": [
    "# Set up pipeline with TFIDF Vectorizer and random forest classifier\n",
    "pipe_rf_t = Pipeline([\n",
    "    ('tvec', TfidfVectorizer(stop_words='english')),\n",
    "    ('rf', RandomForestClassifier())\n",
    "])"
   ]
  },
  {
   "cell_type": "code",
   "execution_count": 17,
   "metadata": {},
   "outputs": [],
   "source": [
    "# Pipeline parameters\n",
    "pipe_rf_t_params = {\n",
    "    'tvec__max_df': [0.9,1.0],\n",
    "    'rf__n_estimators': [100, 200]\n",
    "}"
   ]
  },
  {
   "cell_type": "code",
   "execution_count": 18,
   "metadata": {},
   "outputs": [],
   "source": [
    "# Perform Gridsearch with 3 fold cross validation\n",
    "gs_rf_t = GridSearchCV(pipe_rf_t, pipe_rf_t_params, cv=3, verbose=10)"
   ]
  },
  {
   "cell_type": "code",
   "execution_count": 19,
   "metadata": {},
   "outputs": [
    {
     "name": "stdout",
     "output_type": "stream",
     "text": [
      "Fitting 3 folds for each of 4 candidates, totalling 12 fits\n",
      "[CV 1/3; 1/4] START rf__n_estimators=100, tvec__max_df=0.9......................\n",
      "[CV 1/3; 1/4] END rf__n_estimators=100, tvec__max_df=0.9;, score=0.845 total time=  17.3s\n",
      "[CV 2/3; 1/4] START rf__n_estimators=100, tvec__max_df=0.9......................\n",
      "[CV 2/3; 1/4] END rf__n_estimators=100, tvec__max_df=0.9;, score=0.837 total time=  19.0s\n",
      "[CV 3/3; 1/4] START rf__n_estimators=100, tvec__max_df=0.9......................\n",
      "[CV 3/3; 1/4] END rf__n_estimators=100, tvec__max_df=0.9;, score=0.852 total time=  17.4s\n",
      "[CV 1/3; 2/4] START rf__n_estimators=100, tvec__max_df=1.0......................\n",
      "[CV 1/3; 2/4] END rf__n_estimators=100, tvec__max_df=1.0;, score=0.845 total time=  18.4s\n",
      "[CV 2/3; 2/4] START rf__n_estimators=100, tvec__max_df=1.0......................\n",
      "[CV 2/3; 2/4] END rf__n_estimators=100, tvec__max_df=1.0;, score=0.837 total time=  18.2s\n",
      "[CV 3/3; 2/4] START rf__n_estimators=100, tvec__max_df=1.0......................\n",
      "[CV 3/3; 2/4] END rf__n_estimators=100, tvec__max_df=1.0;, score=0.851 total time=  16.5s\n",
      "[CV 1/3; 3/4] START rf__n_estimators=200, tvec__max_df=0.9......................\n",
      "[CV 1/3; 3/4] END rf__n_estimators=200, tvec__max_df=0.9;, score=0.849 total time=  31.8s\n",
      "[CV 2/3; 3/4] START rf__n_estimators=200, tvec__max_df=0.9......................\n",
      "[CV 2/3; 3/4] END rf__n_estimators=200, tvec__max_df=0.9;, score=0.837 total time=  33.6s\n",
      "[CV 3/3; 3/4] START rf__n_estimators=200, tvec__max_df=0.9......................\n",
      "[CV 3/3; 3/4] END rf__n_estimators=200, tvec__max_df=0.9;, score=0.850 total time=  36.9s\n",
      "[CV 1/3; 4/4] START rf__n_estimators=200, tvec__max_df=1.0......................\n",
      "[CV 1/3; 4/4] END rf__n_estimators=200, tvec__max_df=1.0;, score=0.846 total time=  32.0s\n",
      "[CV 2/3; 4/4] START rf__n_estimators=200, tvec__max_df=1.0......................\n",
      "[CV 2/3; 4/4] END rf__n_estimators=200, tvec__max_df=1.0;, score=0.838 total time=  30.9s\n",
      "[CV 3/3; 4/4] START rf__n_estimators=200, tvec__max_df=1.0......................\n",
      "[CV 3/3; 4/4] END rf__n_estimators=200, tvec__max_df=1.0;, score=0.850 total time=  36.2s\n"
     ]
    }
   ],
   "source": [
    "# Train the model\n",
    "gs_rf_t.fit(X_train, y_train);"
   ]
  },
  {
   "cell_type": "code",
   "execution_count": 21,
   "metadata": {},
   "outputs": [
    {
     "data": {
      "text/plain": [
       "0.8453756202455188"
      ]
     },
     "execution_count": 21,
     "metadata": {},
     "output_type": "execute_result"
    }
   ],
   "source": [
    "# Gridsearch CV best score\n",
    "gs_rf_t.best_score_"
   ]
  },
  {
   "cell_type": "code",
   "execution_count": 22,
   "metadata": {},
   "outputs": [
    {
     "data": {
      "text/plain": [
       "{'rf__n_estimators': 200, 'tvec__max_df': 0.9}"
      ]
     },
     "execution_count": 22,
     "metadata": {},
     "output_type": "execute_result"
    }
   ],
   "source": [
    "# Gridsearch best parameters\n",
    "gs_rf_t.best_params_"
   ]
  },
  {
   "cell_type": "markdown",
   "metadata": {},
   "source": [
    "For this Gridsearch with TFIDF vectorizer, the best parameters are not the default parameters anymore."
   ]
  },
  {
   "cell_type": "code",
   "execution_count": 23,
   "metadata": {},
   "outputs": [
    {
     "name": "stdout",
     "output_type": "stream",
     "text": [
      "train score: 0.999125\n",
      "test score: 0.8335\n"
     ]
    }
   ],
   "source": [
    "# Train score\n",
    "print (f'train score: {gs_rf_t.score(X_train, y_train)}')\n",
    "# Test Score\n",
    "print (f'test score: {gs_rf_t.score(X_test, y_test)}')"
   ]
  },
  {
   "cell_type": "markdown",
   "metadata": {},
   "source": [
    "The CV score and test score are not as good as the Gridsearch with countvectorizer. We will make use of countvectorizer for further optimization to reduce overfitting."
   ]
  },
  {
   "cell_type": "markdown",
   "metadata": {},
   "source": [
    "## RF Countvectorizer Optimization"
   ]
  },
  {
   "cell_type": "code",
   "execution_count": 25,
   "metadata": {},
   "outputs": [],
   "source": [
    "# Countvectorizer transformer with max_df 0.9 as it is the best parameter.\n",
    "cvec = CountVectorizer(max_df=0.9)\n",
    "\n",
    "X_train_c = cvec.fit_transform(X_train)\n",
    "X_test_c = cvec.transform(X_test)"
   ]
  },
  {
   "cell_type": "code",
   "execution_count": 45,
   "metadata": {},
   "outputs": [],
   "source": [
    "# Instantiate Random Forest Classifier\n",
    "rf_c_opt = RandomForestClassifier(random_state=12)"
   ]
  },
  {
   "cell_type": "code",
   "execution_count": 1,
   "metadata": {},
   "outputs": [],
   "source": [
    "# Set different regulization strength in new parameters\n",
    "rf_c_opt_params = {\n",
    "    'ccp_alpha': [0.0002, 0.0004, 0.0006, 0.0008, 0.001, 0.0012],\n",
    "    'max_depth': [5, 10, 15]\n",
    "}"
   ]
  },
  {
   "cell_type": "code",
   "execution_count": 62,
   "metadata": {},
   "outputs": [],
   "source": [
    "# Perform Gridsearch with 5 fold cross validation\n",
    "gs_rf_c_opt = GridSearchCV(rf_c_opt, rf_c_opt_params, cv=5, verbose=1)"
   ]
  },
  {
   "cell_type": "code",
   "execution_count": 63,
   "metadata": {},
   "outputs": [
    {
     "name": "stdout",
     "output_type": "stream",
     "text": [
      "Fitting 5 folds for each of 18 candidates, totalling 90 fits\n"
     ]
    },
    {
     "data": {
      "text/html": [
       "<style>#sk-container-id-7 {color: black;background-color: white;}#sk-container-id-7 pre{padding: 0;}#sk-container-id-7 div.sk-toggleable {background-color: white;}#sk-container-id-7 label.sk-toggleable__label {cursor: pointer;display: block;width: 100%;margin-bottom: 0;padding: 0.3em;box-sizing: border-box;text-align: center;}#sk-container-id-7 label.sk-toggleable__label-arrow:before {content: \"▸\";float: left;margin-right: 0.25em;color: #696969;}#sk-container-id-7 label.sk-toggleable__label-arrow:hover:before {color: black;}#sk-container-id-7 div.sk-estimator:hover label.sk-toggleable__label-arrow:before {color: black;}#sk-container-id-7 div.sk-toggleable__content {max-height: 0;max-width: 0;overflow: hidden;text-align: left;background-color: #f0f8ff;}#sk-container-id-7 div.sk-toggleable__content pre {margin: 0.2em;color: black;border-radius: 0.25em;background-color: #f0f8ff;}#sk-container-id-7 input.sk-toggleable__control:checked~div.sk-toggleable__content {max-height: 200px;max-width: 100%;overflow: auto;}#sk-container-id-7 input.sk-toggleable__control:checked~label.sk-toggleable__label-arrow:before {content: \"▾\";}#sk-container-id-7 div.sk-estimator input.sk-toggleable__control:checked~label.sk-toggleable__label {background-color: #d4ebff;}#sk-container-id-7 div.sk-label input.sk-toggleable__control:checked~label.sk-toggleable__label {background-color: #d4ebff;}#sk-container-id-7 input.sk-hidden--visually {border: 0;clip: rect(1px 1px 1px 1px);clip: rect(1px, 1px, 1px, 1px);height: 1px;margin: -1px;overflow: hidden;padding: 0;position: absolute;width: 1px;}#sk-container-id-7 div.sk-estimator {font-family: monospace;background-color: #f0f8ff;border: 1px dotted black;border-radius: 0.25em;box-sizing: border-box;margin-bottom: 0.5em;}#sk-container-id-7 div.sk-estimator:hover {background-color: #d4ebff;}#sk-container-id-7 div.sk-parallel-item::after {content: \"\";width: 100%;border-bottom: 1px solid gray;flex-grow: 1;}#sk-container-id-7 div.sk-label:hover label.sk-toggleable__label {background-color: #d4ebff;}#sk-container-id-7 div.sk-serial::before {content: \"\";position: absolute;border-left: 1px solid gray;box-sizing: border-box;top: 0;bottom: 0;left: 50%;z-index: 0;}#sk-container-id-7 div.sk-serial {display: flex;flex-direction: column;align-items: center;background-color: white;padding-right: 0.2em;padding-left: 0.2em;position: relative;}#sk-container-id-7 div.sk-item {position: relative;z-index: 1;}#sk-container-id-7 div.sk-parallel {display: flex;align-items: stretch;justify-content: center;background-color: white;position: relative;}#sk-container-id-7 div.sk-item::before, #sk-container-id-7 div.sk-parallel-item::before {content: \"\";position: absolute;border-left: 1px solid gray;box-sizing: border-box;top: 0;bottom: 0;left: 50%;z-index: -1;}#sk-container-id-7 div.sk-parallel-item {display: flex;flex-direction: column;z-index: 1;position: relative;background-color: white;}#sk-container-id-7 div.sk-parallel-item:first-child::after {align-self: flex-end;width: 50%;}#sk-container-id-7 div.sk-parallel-item:last-child::after {align-self: flex-start;width: 50%;}#sk-container-id-7 div.sk-parallel-item:only-child::after {width: 0;}#sk-container-id-7 div.sk-dashed-wrapped {border: 1px dashed gray;margin: 0 0.4em 0.5em 0.4em;box-sizing: border-box;padding-bottom: 0.4em;background-color: white;}#sk-container-id-7 div.sk-label label {font-family: monospace;font-weight: bold;display: inline-block;line-height: 1.2em;}#sk-container-id-7 div.sk-label-container {text-align: center;}#sk-container-id-7 div.sk-container {/* jupyter's `normalize.less` sets `[hidden] { display: none; }` but bootstrap.min.css set `[hidden] { display: none !important; }` so we also need the `!important` here to be able to override the default hidden behavior on the sphinx rendered scikit-learn.org. See: https://github.com/scikit-learn/scikit-learn/issues/21755 */display: inline-block !important;position: relative;}#sk-container-id-7 div.sk-text-repr-fallback {display: none;}</style><div id=\"sk-container-id-7\" class=\"sk-top-container\"><div class=\"sk-text-repr-fallback\"><pre>GridSearchCV(cv=5, estimator=RandomForestClassifier(random_state=12),\n",
       "             param_grid={&#x27;ccp_alpha&#x27;: [0.0002, 0.0004, 0.0006, 0.0008, 0.001,\n",
       "                                       0.0012],\n",
       "                         &#x27;max_depth&#x27;: [5, 10, 15]},\n",
       "             verbose=1)</pre><b>In a Jupyter environment, please rerun this cell to show the HTML representation or trust the notebook. <br />On GitHub, the HTML representation is unable to render, please try loading this page with nbviewer.org.</b></div><div class=\"sk-container\" hidden><div class=\"sk-item sk-dashed-wrapped\"><div class=\"sk-label-container\"><div class=\"sk-label sk-toggleable\"><input class=\"sk-toggleable__control sk-hidden--visually\" id=\"sk-estimator-id-11\" type=\"checkbox\" ><label for=\"sk-estimator-id-11\" class=\"sk-toggleable__label sk-toggleable__label-arrow\">GridSearchCV</label><div class=\"sk-toggleable__content\"><pre>GridSearchCV(cv=5, estimator=RandomForestClassifier(random_state=12),\n",
       "             param_grid={&#x27;ccp_alpha&#x27;: [0.0002, 0.0004, 0.0006, 0.0008, 0.001,\n",
       "                                       0.0012],\n",
       "                         &#x27;max_depth&#x27;: [5, 10, 15]},\n",
       "             verbose=1)</pre></div></div></div><div class=\"sk-parallel\"><div class=\"sk-parallel-item\"><div class=\"sk-item\"><div class=\"sk-label-container\"><div class=\"sk-label sk-toggleable\"><input class=\"sk-toggleable__control sk-hidden--visually\" id=\"sk-estimator-id-12\" type=\"checkbox\" ><label for=\"sk-estimator-id-12\" class=\"sk-toggleable__label sk-toggleable__label-arrow\">estimator: RandomForestClassifier</label><div class=\"sk-toggleable__content\"><pre>RandomForestClassifier(random_state=12)</pre></div></div></div><div class=\"sk-serial\"><div class=\"sk-item\"><div class=\"sk-estimator sk-toggleable\"><input class=\"sk-toggleable__control sk-hidden--visually\" id=\"sk-estimator-id-13\" type=\"checkbox\" ><label for=\"sk-estimator-id-13\" class=\"sk-toggleable__label sk-toggleable__label-arrow\">RandomForestClassifier</label><div class=\"sk-toggleable__content\"><pre>RandomForestClassifier(random_state=12)</pre></div></div></div></div></div></div></div></div></div></div>"
      ],
      "text/plain": [
       "GridSearchCV(cv=5, estimator=RandomForestClassifier(random_state=12),\n",
       "             param_grid={'ccp_alpha': [0.0002, 0.0004, 0.0006, 0.0008, 0.001,\n",
       "                                       0.0012],\n",
       "                         'max_depth': [5, 10, 15]},\n",
       "             verbose=1)"
      ]
     },
     "execution_count": 63,
     "metadata": {},
     "output_type": "execute_result"
    }
   ],
   "source": [
    "# Train the model with new parameters\n",
    "gs_rf_c_opt.fit(X_train_c, y_train)"
   ]
  },
  {
   "cell_type": "code",
   "execution_count": 64,
   "metadata": {},
   "outputs": [
    {
     "data": {
      "text/plain": [
       "0.8026250000000001"
      ]
     },
     "execution_count": 64,
     "metadata": {},
     "output_type": "execute_result"
    }
   ],
   "source": [
    "# Gridsearch CV best score\n",
    "gs_rf_c_opt.best_score_"
   ]
  },
  {
   "cell_type": "code",
   "execution_count": 65,
   "metadata": {},
   "outputs": [
    {
     "data": {
      "text/plain": [
       "{'ccp_alpha': 0.0006, 'max_depth': 15}"
      ]
     },
     "execution_count": 65,
     "metadata": {},
     "output_type": "execute_result"
    }
   ],
   "source": [
    "# Gridsearch CV best parameters\n",
    "gs_rf_c_opt.best_params_"
   ]
  },
  {
   "cell_type": "code",
   "execution_count": 66,
   "metadata": {},
   "outputs": [
    {
     "name": "stdout",
     "output_type": "stream",
     "text": [
      "train score: 0.815\n",
      "test score: 0.7975\n"
     ]
    }
   ],
   "source": [
    "# Train score\n",
    "print (f'train score: {gs_rf_c_opt.score(X_train_c, y_train)}')\n",
    "# Test Score\n",
    "print (f'test score: {gs_rf_c_opt.score(X_test_c, y_test)}')"
   ]
  },
  {
   "cell_type": "markdown",
   "metadata": {},
   "source": [
    "After optimization, our model is much less overfitting. Train score and test score are quite close to each other."
   ]
  },
  {
   "cell_type": "code",
   "execution_count": null,
   "metadata": {},
   "outputs": [],
   "source": [
    "# This is the model with the best parameters\n",
    "cvec_best = CountVectorizer(max_df=0.9)\n",
    "rf_best = RandomForestClassifier(ccp_alpha=0.0006, max_depth=15, random_state=12)"
   ]
  }
 ],
 "metadata": {
  "kernelspec": {
   "display_name": "Python 3.10.7 64-bit (microsoft store)",
   "language": "python",
   "name": "python3"
  },
  "language_info": {
   "codemirror_mode": {
    "name": "ipython",
    "version": 3
   },
   "file_extension": ".py",
   "mimetype": "text/x-python",
   "name": "python",
   "nbconvert_exporter": "python",
   "pygments_lexer": "ipython3",
   "version": "3.10.8"
  },
  "orig_nbformat": 4,
  "vscode": {
   "interpreter": {
    "hash": "e19db1e9da599290b8ff42b0f8e8323be965d18c8fa7c16db7240545f8fbedb0"
   }
  }
 },
 "nbformat": 4,
 "nbformat_minor": 2
}
